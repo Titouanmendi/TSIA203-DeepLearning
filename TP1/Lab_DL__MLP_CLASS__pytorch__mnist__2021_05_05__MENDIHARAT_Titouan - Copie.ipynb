{
  "cells": [
    {
      "attachments": {},
      "cell_type": "markdown",
      "metadata": {
        "id": "WpYK9fIlyZCq"
      },
      "source": [
        "# Lab Deep Learning / Multi-Layer Perceptron for classification / in pytorch\n",
        "\n",
        "**Author: geoffroy.peeters@telecom-paris.fr**\n",
        "\n",
        "For any remark or suggestion, please feel free to contact me.\n",
        "\n",
        "Last edit: 2020/04/27 peeters\n",
        "\n",
        "Read the \"introduction to pytorch\" slides first: https://perso.telecom-paristech.fr/gpeeters/doc/pytorch/\n",
        "\n",
        "**Is is recommended that you first perform the ```Lab Deep Learning / Multi-Layer Perceptron for regression / in pytorch``` Lab to understand how to write a Neural Network in pytorch.**\n",
        "\n",
        "\n",
        "## Objective:\n",
        "\n",
        "The objective of this lab is to develop a two hidden layers MLP to perform image **classification**.\n",
        "\n",
        "While the previous Lab ```Lab Deep Learning / Multi-Layer Perceptron for regression / in pytorch``` focused on how to write a Neural Network, the present Lab focuses on managing datasets and splitting training and testing .\n",
        "\n",
        "We will use MNIST for the image dataset.\n",
        "\n",
        "## Your task:\n",
        "\n",
        "You need to add the missing parts in the code (parts between ```# --- START CODE HERE``` and ```# --- END CODE HERE```)\n",
        "\n",
        "## Documentation:\n",
        "- NN: https://pytorch.org/docs/stable/nn.html\n",
        "- Autograd: https://pytorch.org/docs/stable/autograd.html\n",
        "- Optim: https://pytorch.org/docs/stable/optim.html\n"
      ]
    },
    {
      "cell_type": "code",
      "execution_count": 1,
      "metadata": {
        "id": "h6o3NZfNyZCt"
      },
      "outputs": [],
      "source": [
        "import torch\n",
        "import torch.nn as nn\n",
        "import torch.nn.functional as F\n",
        "import torch.optim as optim\n",
        "from torchvision import datasets, transforms\n",
        "import matplotlib.pyplot as plt"
      ]
    },
    {
      "attachments": {},
      "cell_type": "markdown",
      "metadata": {
        "id": "Vy7u-IVkyZCu"
      },
      "source": [
        "## Data management\n",
        "\n",
        "It is common to separate the datasets into\n",
        "- a **training** part (used to find the network parameters which minimize the loss)\n",
        "- a **test part** (used to estimate the performances).\n",
        "\n",
        "The training part can itself be further splitted into a training and a validation part (the validation part is then used to fix the hyper-parameters of the system).\n",
        "\n",
        "When performing ```batch gradient descent``` the whole training set is used to compute the gradients (which itself is used for the parameter optimization). \n",
        "However when performing ```stochastic or mini-batch gradient descent``` only a part of the training data is used at each iteration.\n",
        "\n",
        "We therefore needs to write all the necessary code, to get these mini-batches of data, be sure that all data have been seen, potentially randomize the order of appearance of these data and potentially perform some modifications of the data before giving them to the network.\n",
        "\n",
        "Fortunatelly, pytorch has associated to it (but not included in it) a nice package (```torchvision```) which allows to do all that for us.\n",
        "\n",
        "This package allows to perform these process for any datasets but has a pre-tuned method for the ```MNIST```datasets.\n",
        "\n",
        "### Datasets\n",
        "\n",
        "In the following we will us ```datasets.MNIST``` to load the train and test data.\n",
        "\n",
        "We need to tell it to download the data, where to dowload them and if we want the training or the testing part of it.\n",
        "\n",
        "We then tell it if we want to apply some transformations to the data.\n",
        "\n",
        "For this lab, we will transform the data by\n",
        "- 1) transforming them to torch tensors (using ```transforms.ToTensor()```); since by default they are not torch tensors\n",
        "- 2) normalize them to zero mean and unit standard deviation (using ```transforms.Normalize()```).\n",
        "\n",
        "It is of course possible to also apply data augmentation.\n",
        "\n",
        "Since we have several transforms to be performed, we will compose them using ```transforms.Compose([transform1, transform2])```\n",
        "\n",
        "The corresponding datasets is a class which contains the pairs of [input tensors $X$, corresponding ground-truth label $y$].\n",
        "\n",
        "### Dataloader\n",
        "\n",
        "Another nice pytorch facility is the ```Dataloader``` which transforms the dataset to be used as an iterator (i.e. within ```for data in myDataloader: ```).\n",
        "\n",
        "Moreover, ```Dataloader``` allows to specify \n",
        "- how many data will be provided each time it is called (```batch_size```)\n",
        "- if the order of appearance of the data with be random (````shuffle````).\n",
        "\n",
        "We therefore convert our datasets (train and test) to ```DataLoader``` that are directly used as iterator during the iterations (it DataLoader manage directly the mini-batch and shuffling)."
      ]
    },
    {
      "cell_type": "code",
      "execution_count": 10,
      "metadata": {
        "id": "zsSEvakPyZCv"
      },
      "outputs": [],
      "source": [
        "# --- START CODE HERE\n",
        "train_set = datasets.MNIST(root='./data', train=True, transform=transforms.ToTensor(), download=True)\n",
        "train_loader = torch.utils.data.DataLoader(dataset=train_set, batch_size=64, shuffle=True)\n",
        "test_set = datasets.MNIST(root='./data', train=False, transform=transforms.ToTensor())\n",
        "test_loader = torch.utils.data.DataLoader(dataset=test_set, batch_size=64, shuffle=True)\n",
        "# --- END CODE HERE"
      ]
    },
    {
      "cell_type": "code",
      "execution_count": 3,
      "metadata": {
        "id": "FFuEXr0tyZCw",
        "outputId": "f5006b90-11fb-42ad-a495-d4bd8ab6d21b"
      },
      "outputs": [
        {
          "name": "stdout",
          "output_type": "stream",
          "text": [
            "Dataset type: <class 'torchvision.datasets.mnist.MNIST'>\n",
            "Dataset size: 60000\n",
            "X data: torch.Size([1, 28, 28])\n",
            "y data: 5\n"
          ]
        }
      ],
      "source": [
        "print(f'Dataset type: {type(train_set)}')\n",
        "print(f'Dataset size: {len(train_set)}')\n",
        "print(f'X data: {train_set[0][0].size()}')\n",
        "print(f'y data: {train_set[0][1]}')"
      ]
    },
    {
      "attachments": {},
      "cell_type": "markdown",
      "metadata": {
        "id": "piAf25dxyZCx"
      },
      "source": [
        "### Display the first 5 data of MNIST dataset."
      ]
    },
    {
      "cell_type": "code",
      "execution_count": 5,
      "metadata": {
        "id": "Jsa2MAEhyZCx",
        "outputId": "eedafc68-1b49-4e6c-dfdb-7275f06afb62"
      },
      "outputs": [
        {
          "data": {
            "image/png": "[encoded data removed]",
            "text/plain": [
              "<Figure size 640x480 with 5 Axes>"
            ]
          },
          "metadata": {},
          "output_type": "display_data"
        }
      ],
      "source": [
        "# ------------------------------------\n",
        "for i in range(5):\n",
        "    im = next(iter(train_loader))\n",
        "    plt.subplot(1,5,i+1)\n",
        "    plt.imshow(im[0][0][0,:,:])\n",
        "    plt.title(im[1][0].item())\n",
        "    \n"
      ]
    },
    {
      "attachments": {},
      "cell_type": "markdown",
      "metadata": {
        "id": "bo6-KX8UyZCy"
      },
      "source": [
        "## Network setting\n",
        "\n",
        "While image classification, is usually performed using Convolutional Neural Networks, we will use here a Multi-Layer-Perceptron (also named ```fully-connected```).\n",
        "For this, we will flatten (i.e. convert the iamge 2D matrix to a 1D vector) the input images.\n",
        "\n",
        "- The input images are of size 28*28 and are converted to vectors of size ```n_in```=784. \n",
        "\n",
        "- The two hidden layers have ````n_h1````=500 and ```n_h2```=256 unit/neurons each and ```Relu``` activations.\n",
        "\n",
        "- The output are the ```n_out```=10 classes (the 10 digits to be recognized). \n",
        "\n",
        "Since we deal with a muti-class problem (10 classes), the output activations is therefore a ```softmax```.\n",
        "\n",
        "Note that since the ```softmax``` output will be given to a ```cross-entropy```, the ```log``` et the latter can be directly added to the ```softmax```. This leads to the pytorch function ```F.log_softmax```.\n"
      ]
    },
    {
      "cell_type": "code",
      "execution_count": 7,
      "metadata": {
        "id": "H0uIIQb9yZCy"
      },
      "outputs": [],
      "source": [
        "class Net(nn.Module):\n",
        "    def __init__(self):\n",
        "        n_in = 28*28\n",
        "        n_h1 = 500\n",
        "        n_h2 = 256\n",
        "        n_out = 10\n",
        "        super(Net, self).__init__()\n",
        "        # --- START CODE HERE\n",
        "        self.h1 = torch.nn.Linear(n_in, n_h1)\n",
        "        self.h2 = torch.nn.Linear(n_h1, n_h2)\n",
        "        self.predict     = torch.nn.Linear(n_h2, n_out)\n",
        "        # --- END CODE HERE\n",
        "    def forward(self, x):\n",
        "        # --- START CODE HERE\n",
        "        x = F.relu(self.h1(x))\n",
        "        x = F.relu(self.h2(x))\n",
        "        x = self.predict(x)\n",
        "        # --- END CODE HERE\n",
        "        return F.log_softmax(x, dim=1)"
      ]
    },
    {
      "attachments": {},
      "cell_type": "markdown",
      "metadata": {
        "id": "x7qcgKFwyZCz"
      },
      "source": [
        "## Defining the train and test functions\n",
        "\n",
        "In the present lab, we distinguish between train and test data. \n",
        "We therefore write\n",
        "- a train function (to learn the network parameters on the train data),\n",
        "- a test function (to evaluate the network's performances on the test data).\n",
        "\n",
        "The ```train``` and ```test```function will perform the computation for a given ```epoch```.\n",
        "The functions therefore only need to ```loop over``` the mini-batches.\n",
        "This is now easy since we defined our ```Dataloader```for train and test.\n",
        "\n",
        "For the train function, for each mini-batch, we  \n",
        "- compute the forward pass by passing the data to the model: haty = model(x)\n",
        "- compute the the loss (the criterion)\n",
        "- putting at zero the gradients of all the parameters of the network (this is important since, by default, pytorch accumulate the gradients over time)\n",
        "- computing the backpropagation (using as before .backward())\n",
        "- performing one step of optimization (using .step())\n",
        "\n",
        "For the train function, we set the model to train mode (```model.train()```). This allows to set some specific behaviours for training (such as activate the dropout).\n",
        "\n",
        "For the test function, we set the model to train mode (```model.eval()```). This allows to set some specific behaviours for training (such as removing the dropout).\n",
        "\n",
        "\n",
        "Since we are dealing with a multi-class problem (10 classes), we will minimize as loss the ```cross-entropy``` (named negative-log-likelihood ```nll_loss```in pytorch).\n",
        "Since ```nll_loss```does not contains the ```log``` we have added it directly to the softmax by using the ```log_softmax```as output activation of our network.\n",
        "\n",
        "Note that we could use the loss from the nn package (```torch.nn.NLLLoss```) it is then a class which needs to be first instanciated. \n",
        "We can also use the same but as a function (```F.nll_loss()```) which can be used directly without instanciating the class."
      ]
    },
    {
      "cell_type": "code",
      "execution_count": 8,
      "metadata": {
        "id": "3dGuPt96yZCz"
      },
      "outputs": [],
      "source": [
        "def train(model, train_loader, optimizer, epoch):\n",
        "    model.train()\n",
        "    criterion = torch.nn.CrossEntropyLoss()\n",
        "    for batch_idx, (data, target) in enumerate(train_loader):\n",
        "        # --- START CODE HERE\n",
        "        optimizer.zero_grad()\n",
        "        data = data.view(data.size(0), -1)\n",
        "        output = model(data)\n",
        "        loss = criterion(output, target)\n",
        "        loss.backward()\n",
        "        optimizer.step()\n",
        "        # --- END CODE HERE\n",
        "        \n",
        "        if batch_idx % 100 == 0:\n",
        "            print('epoch {}, loss {}'.format(epoch, loss.item()))"
      ]
    },
    {
      "cell_type": "code",
      "execution_count": 9,
      "metadata": {
        "id": "zI8QtzV2yZC0"
      },
      "outputs": [],
      "source": [
        "def test(model, test_loader):\n",
        "    model.eval()\n",
        "    test_loss = 0\n",
        "    correct = 0\n",
        "    with torch.no_grad():\n",
        "        for data, target in test_loader:\n",
        "            # --- START CODE HERE\n",
        "            data = data.view(-1, 28*28)\n",
        "            output = model(data)\n",
        "            test_loss +=F.nll_loss(output, target, reduction='sum')\n",
        "            pred = output.argmax(dim=1, keepdim=True)\n",
        "            correct +=pred.eq(target.view_as(pred)).sum().item() \n",
        "            # --- STOP CODE HERE\n",
        "        \n",
        "    test_loss /= len(test_loader.dataset)\n",
        "    correct /= len(test_loader.dataset)\n",
        "    print('\\nTest set: Average loss: {}, Accuracy: {}\\n'.format(test_loss, correct))"
      ]
    },
    {
      "attachments": {},
      "cell_type": "markdown",
      "metadata": {
        "id": "9MXQIbcJyZC0"
      },
      "source": [
        "## Looping over epochs\n",
        "\n",
        "\n",
        "We finally define, how we will optimize our parameters by defining an optimizer.\n",
        "We will use here a very simple one: the SGD (```optim.SGD```) with a learning rate of 0.01.\n",
        "\n",
        "At each iteration, we then call the train and the test function."
      ]
    },
    {
      "cell_type": "code",
      "execution_count": 12,
      "metadata": {
        "id": "ofYcX05ZyZC0",
        "outputId": "caa2e3bf-aff6-41b5-cbb9-f44031985d84"
      },
      "outputs": [
        {
          "name": "stdout",
          "output_type": "stream",
          "text": [
            "epoch 1, loss 2.311833620071411\n",
            "epoch 1, loss 0.8056780695915222\n",
            "epoch 1, loss 0.3153882920742035\n",
            "epoch 1, loss 0.2725083529949188\n",
            "epoch 1, loss 0.3058554530143738\n",
            "epoch 1, loss 0.22528225183486938\n",
            "epoch 1, loss 0.3262025713920593\n",
            "epoch 1, loss 0.2886674702167511\n",
            "epoch 1, loss 0.18732444941997528\n",
            "epoch 1, loss 0.3361053168773651\n",
            "\n",
            "Test set: Average loss: 0.21380466222763062, Accuracy: 0.9393\n",
            "\n",
            "epoch 2, loss 0.2388775497674942\n",
            "epoch 2, loss 0.2737275958061218\n",
            "epoch 2, loss 0.2314242571592331\n",
            "epoch 2, loss 0.2860596776008606\n",
            "epoch 2, loss 0.14292258024215698\n",
            "epoch 2, loss 0.0611640028655529\n",
            "epoch 2, loss 0.20453611016273499\n",
            "epoch 2, loss 0.1499759405851364\n",
            "epoch 2, loss 0.4042002558708191\n",
            "epoch 2, loss 0.23339661955833435\n",
            "\n",
            "Test set: Average loss: 0.1364855170249939, Accuracy: 0.9588\n",
            "\n",
            "epoch 3, loss 0.09414147585630417\n",
            "epoch 3, loss 0.10240650177001953\n",
            "epoch 3, loss 0.24192608892917633\n",
            "epoch 3, loss 0.10870662331581116\n",
            "epoch 3, loss 0.06043992564082146\n",
            "epoch 3, loss 0.14974136650562286\n",
            "epoch 3, loss 0.2532972991466522\n",
            "epoch 3, loss 0.15436509251594543\n",
            "epoch 3, loss 0.15279056131839752\n",
            "epoch 3, loss 0.10692450404167175\n",
            "\n",
            "Test set: Average loss: 0.10303713381290436, Accuracy: 0.9673\n",
            "\n",
            "epoch 4, loss 0.061171408742666245\n",
            "epoch 4, loss 0.04925841838121414\n",
            "epoch 4, loss 0.16389316320419312\n",
            "epoch 4, loss 0.19755129516124725\n",
            "epoch 4, loss 0.08656872808933258\n",
            "epoch 4, loss 0.04889826104044914\n",
            "epoch 4, loss 0.07384800910949707\n",
            "epoch 4, loss 0.034868139773607254\n",
            "epoch 4, loss 0.11197596043348312\n",
            "epoch 4, loss 0.054102130234241486\n",
            "\n",
            "Test set: Average loss: 0.09243469685316086, Accuracy: 0.9697\n",
            "\n",
            "epoch 5, loss 0.1047031581401825\n",
            "epoch 5, loss 0.08869044482707977\n",
            "epoch 5, loss 0.08609601110219955\n",
            "epoch 5, loss 0.0426023006439209\n",
            "epoch 5, loss 0.09520651400089264\n",
            "epoch 5, loss 0.04925967752933502\n",
            "epoch 5, loss 0.049885883927345276\n",
            "epoch 5, loss 0.013378684408962727\n",
            "epoch 5, loss 0.03350060060620308\n",
            "epoch 5, loss 0.026325829327106476\n",
            "\n",
            "Test set: Average loss: 0.07315760850906372, Accuracy: 0.9766\n",
            "\n",
            "epoch 6, loss 0.02802700735628605\n",
            "epoch 6, loss 0.008033007383346558\n",
            "epoch 6, loss 0.027093324810266495\n",
            "epoch 6, loss 0.06740877032279968\n",
            "epoch 6, loss 0.0068206097930669785\n",
            "epoch 6, loss 0.08304990828037262\n",
            "epoch 6, loss 0.016583936288952827\n",
            "epoch 6, loss 0.011490941978991032\n",
            "epoch 6, loss 0.044799983501434326\n",
            "epoch 6, loss 0.042076949030160904\n",
            "\n",
            "Test set: Average loss: 0.0695735439658165, Accuracy: 0.9769\n",
            "\n",
            "epoch 7, loss 0.05314512550830841\n",
            "epoch 7, loss 0.038097504526376724\n",
            "epoch 7, loss 0.01427674200385809\n",
            "epoch 7, loss 0.06639799475669861\n",
            "epoch 7, loss 0.06930753588676453\n",
            "epoch 7, loss 0.04550210386514664\n",
            "epoch 7, loss 0.022413354367017746\n",
            "epoch 7, loss 0.023055491968989372\n",
            "epoch 7, loss 0.03670833259820938\n",
            "epoch 7, loss 0.05305570363998413\n",
            "\n",
            "Test set: Average loss: 0.06684454530477524, Accuracy: 0.9789\n",
            "\n",
            "epoch 8, loss 0.01906752772629261\n",
            "epoch 8, loss 0.013746490702033043\n",
            "epoch 8, loss 0.005147376097738743\n",
            "epoch 8, loss 0.033789340406656265\n",
            "epoch 8, loss 0.022742943838238716\n",
            "epoch 8, loss 0.03313351795077324\n",
            "epoch 8, loss 0.025893038138747215\n",
            "epoch 8, loss 0.00814699288457632\n",
            "epoch 8, loss 0.011449728161096573\n",
            "epoch 8, loss 0.023441046476364136\n",
            "\n",
            "Test set: Average loss: 0.06652428209781647, Accuracy: 0.9777\n",
            "\n",
            "epoch 9, loss 0.031588565558195114\n",
            "epoch 9, loss 0.0020450796000659466\n",
            "epoch 9, loss 0.008112825453281403\n",
            "epoch 9, loss 0.0101982606574893\n",
            "epoch 9, loss 0.009851139970123768\n",
            "epoch 9, loss 0.02038726583123207\n",
            "epoch 9, loss 0.009085087105631828\n",
            "epoch 9, loss 0.030944734811782837\n",
            "epoch 9, loss 0.011823328211903572\n",
            "epoch 9, loss 0.025480838492512703\n",
            "\n",
            "Test set: Average loss: 0.06543553620576859, Accuracy: 0.9803\n",
            "\n",
            "epoch 10, loss 0.04155251383781433\n",
            "epoch 10, loss 0.006988076958805323\n",
            "epoch 10, loss 0.012830710969865322\n",
            "epoch 10, loss 0.016820332035422325\n",
            "epoch 10, loss 0.021816318854689598\n",
            "epoch 10, loss 0.036215443164110184\n",
            "epoch 10, loss 0.0027468290645629168\n",
            "epoch 10, loss 0.04013253375887871\n",
            "epoch 10, loss 0.03483652323484421\n",
            "epoch 10, loss 0.024501878768205643\n",
            "\n",
            "Test set: Average loss: 0.06433220952749252, Accuracy: 0.9796\n",
            "\n"
          ]
        }
      ],
      "source": [
        "model = Net()\n",
        "optimizer = optim.SGD(model.parameters(), lr=0.01, momentum=0.9)\n",
        "nb_epoch = 10\n",
        "for epoch in range(1, nb_epoch + 1):\n",
        "        # --- START CODE HERE\n",
        "        train(model, train_loader, optimizer, epoch)\n",
        "        test(model, test_loader)\n",
        "        # --- END CODE HERE"
      ]
    }
  ],
  "metadata": {
    "colab": {
      "provenance": []
    },
    "kernelspec": {
      "display_name": "Python 3",
      "language": "python",
      "name": "python3"
    },
    "language_info": {
      "codemirror_mode": {
        "name": "ipython",
        "version": 3
      },
      "file_extension": ".py",
      "mimetype": "text/x-python",
      "name": "python",
      "nbconvert_exporter": "python",
      "pygments_lexer": "ipython3",
      "version": "3.10.11"
    },
    "toc": {
      "base_numbering": 1,
      "nav_menu": {},
      "number_sections": true,
      "sideBar": true,
      "skip_h1_title": false,
      "title_cell": "Table of Contents",
      "title_sidebar": "Contents",
      "toc_cell": false,
      "toc_position": {
        "height": "calc(100% - 180px)",
        "left": "10px",
        "top": "150px",
        "width": "165px"
      },
      "toc_section_display": true,
      "toc_window_display": false
    }
  },
  "nbformat": 4,
  "nbformat_minor": 0
}
