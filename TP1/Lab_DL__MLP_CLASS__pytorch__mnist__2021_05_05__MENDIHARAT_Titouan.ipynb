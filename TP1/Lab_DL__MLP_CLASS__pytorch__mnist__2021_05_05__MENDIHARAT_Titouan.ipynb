{
  "cells": [
    {
      "attachments": {},
      "cell_type": "markdown",
      "metadata": {
        "id": "WpYK9fIlyZCq"
      },
      "source": [
        "# Lab Deep Learning / Multi-Layer Perceptron for classification / in pytorch\n",
        "\n",
        "**Author: geoffroy.peeters@telecom-paris.fr**\n",
        "\n",
        "For any remark or suggestion, please feel free to contact me.\n",
        "\n",
        "Last edit: 2020/04/27 peeters\n",
        "\n",
        "Read the \"introduction to pytorch\" slides first: https://perso.telecom-paristech.fr/gpeeters/doc/pytorch/\n",
        "\n",
        "**Is is recommended that you first perform the ```Lab Deep Learning / Multi-Layer Perceptron for regression / in pytorch``` Lab to understand how to write a Neural Network in pytorch.**\n",
        "\n",
        "\n",
        "## Objective:\n",
        "\n",
        "The objective of this lab is to develop a two hidden layers MLP to perform image **classification**.\n",
        "\n",
        "While the previous Lab ```Lab Deep Learning / Multi-Layer Perceptron for regression / in pytorch``` focused on how to write a Neural Network, the present Lab focuses on managing datasets and splitting training and testing .\n",
        "\n",
        "We will use MNIST for the image dataset.\n",
        "\n",
        "## Your task:\n",
        "\n",
        "You need to add the missing parts in the code (parts between ```# --- START CODE HERE``` and ```# --- END CODE HERE```)\n",
        "\n",
        "## Documentation:\n",
        "- NN: https://pytorch.org/docs/stable/nn.html\n",
        "- Autograd: https://pytorch.org/docs/stable/autograd.html\n",
        "- Optim: https://pytorch.org/docs/stable/optim.html\n"
      ]
    },
    {
      "cell_type": "code",
      "execution_count": 1,
      "metadata": {
        "id": "h6o3NZfNyZCt"
      },
      "outputs": [],
      "source": [
        "import torch\n",
        "import torch.nn as nn\n",
        "import torch.nn.functional as F\n",
        "import torch.optim as optim\n",
        "from torchvision import datasets, transforms\n",
        "import matplotlib.pyplot as plt"
      ]
    },
    {
      "attachments": {},
      "cell_type": "markdown",
      "metadata": {
        "id": "Vy7u-IVkyZCu"
      },
      "source": [
        "## Data management\n",
        "\n",
        "It is common to separate the datasets into\n",
        "- a **training** part (used to find the network parameters which minimize the loss)\n",
        "- a **test part** (used to estimate the performances).\n",
        "\n",
        "The training part can itself be further splitted into a training and a validation part (the validation part is then used to fix the hyper-parameters of the system).\n",
        "\n",
        "When performing ```batch gradient descent``` the whole training set is used to compute the gradients (which itself is used for the parameter optimization). \n",
        "However when performing ```stochastic or mini-batch gradient descent``` only a part of the training data is used at each iteration.\n",
        "\n",
        "We therefore needs to write all the necessary code, to get these mini-batches of data, be sure that all data have been seen, potentially randomize the order of appearance of these data and potentially perform some modifications of the data before giving them to the network.\n",
        "\n",
        "Fortunatelly, pytorch has associated to it (but not included in it) a nice package (```torchvision```) which allows to do all that for us.\n",
        "\n",
        "This package allows to perform these process for any datasets but has a pre-tuned method for the ```MNIST```datasets.\n",
        "\n",
        "### Datasets\n",
        "\n",
        "In the following we will us ```datasets.MNIST``` to load the train and test data.\n",
        "\n",
        "We need to tell it to download the data, where to dowload them and if we want the training or the testing part of it.\n",
        "\n",
        "We then tell it if we want to apply some transformations to the data.\n",
        "\n",
        "For this lab, we will transform the data by\n",
        "- 1) transforming them to torch tensors (using ```transforms.ToTensor()```); since by default they are not torch tensors\n",
        "- 2) normalize them to zero mean and unit standard deviation (using ```transforms.Normalize()```).\n",
        "\n",
        "It is of course possible to also apply data augmentation.\n",
        "\n",
        "Since we have several transforms to be performed, we will compose them using ```transforms.Compose([transform1, transform2])```\n",
        "\n",
        "The corresponding datasets is a class which contains the pairs of [input tensors $X$, corresponding ground-truth label $y$].\n",
        "\n",
        "### Dataloader\n",
        "\n",
        "Another nice pytorch facility is the ```Dataloader``` which transforms the dataset to be used as an iterator (i.e. within ```for data in myDataloader: ```).\n",
        "\n",
        "Moreover, ```Dataloader``` allows to specify \n",
        "- how many data will be provided each time it is called (```batch_size```)\n",
        "- if the order of appearance of the data with be random (````shuffle````).\n",
        "\n",
        "We therefore convert our datasets (train and test) to ```DataLoader``` that are directly used as iterator during the iterations (it DataLoader manage directly the mini-batch and shuffling)."
      ]
    },
    {
      "cell_type": "code",
      "execution_count": 2,
      "metadata": {
        "id": "zsSEvakPyZCv"
      },
      "outputs": [],
      "source": [
        "# --- START CODE HERE\n",
        "train_set = datasets.MNIST(root='./data', train=True, transform=transforms.ToTensor(), download=True)\n",
        "train_loader = torch.utils.data.DataLoader(dataset=train_set, batch_size=64, shuffle=True)\n",
        "test_set = datasets.MNIST(root='./data', train=False, transform=transforms.ToTensor())\n",
        "test_loader = torch.utils.data.DataLoader(dataset=test_set, batch_size=64, shuffle=False)\n",
        "# --- END CODE HERE"
      ]
    },
    {
      "cell_type": "code",
      "execution_count": 3,
      "metadata": {
        "id": "FFuEXr0tyZCw",
        "outputId": "f5006b90-11fb-42ad-a495-d4bd8ab6d21b"
      },
      "outputs": [
        {
          "name": "stdout",
          "output_type": "stream",
          "text": [
            "dataset type: <class 'torchvision.datasets.mnist.MNIST'>\n",
            "dataset size: 60000\n",
            "X data: torch.Size([1, 28, 28])\n",
            "y data: 5\n"
          ]
        }
      ],
      "source": [
        "print(\"dataset type: {}\".format(type(train_set)))\n",
        "print(\"dataset size: {}\".format(len(train_set)))\n",
        "print(\"X data: {}\".format(train_set[0][0].size()))\n",
        "print(\"y data: {}\".format(train_set[0][1]))"
      ]
    },
    {
      "attachments": {},
      "cell_type": "markdown",
      "metadata": {
        "id": "piAf25dxyZCx"
      },
      "source": [
        "### Display the first 5 data of MNIST dataset."
      ]
    },
    {
      "cell_type": "code",
      "execution_count": 4,
      "metadata": {
        "id": "Jsa2MAEhyZCx",
        "outputId": "eedafc68-1b49-4e6c-dfdb-7275f06afb62"
      },
      "outputs": [
        {
          "data": {
            "image/png": "[encoded data removed]",
            "text/plain": [
              "<Figure size 640x480 with 5 Axes>"
            ]
          },
          "metadata": {},
          "output_type": "display_data"
        }
      ],
      "source": [
        "# ------------------------------------\n",
        "for num in range(0,5):\n",
        "    one_data = next(iter(train_loader))\n",
        "    plt.subplot(1,5,num+1)\n",
        "    plt.imshow(one_data[0][0][0,:,:])\n",
        "    plt.title(one_data[1][0].item())"
      ]
    },
    {
      "attachments": {},
      "cell_type": "markdown",
      "metadata": {
        "id": "bo6-KX8UyZCy"
      },
      "source": [
        "## Network setting\n",
        "\n",
        "While image classification, is usually performed using Convolutional Neural Networks, we will use here a Multi-Layer-Perceptron (also named ```fully-connected```).\n",
        "For this, we will flatten (i.e. convert the iamge 2D matrix to a 1D vector) the input images.\n",
        "\n",
        "- The input images are of size 28*28 and are converted to vectors of size ```n_in```=784. \n",
        "\n",
        "- The two hidden layers have ````n_h1````=500 and ```n_h2```=256 unit/neurons each and ```Relu``` activations.\n",
        "\n",
        "- The output are the ```n_out```=10 classes (the 10 digits to be recognized). \n",
        "\n",
        "Since we deal with a muti-class problem (10 classes), the output activations is therefore a ```softmax```.\n",
        "\n",
        "Note that since the ```softmax``` output will be given to a ```cross-entropy```, the ```log``` et the latter can be directly added to the ```softmax```. This leads to the pytorch function ```F.log_softmax```.\n"
      ]
    },
    {
      "cell_type": "code",
      "execution_count": 5,
      "metadata": {
        "id": "H0uIIQb9yZCy"
      },
      "outputs": [],
      "source": [
        "class Net(nn.Module):\n",
        "    def __init__(self):\n",
        "        n_in = 28*28\n",
        "        n_h1 = 500\n",
        "        n_h2 = 256\n",
        "        n_out = 10\n",
        "        super(Net, self).__init__()\n",
        "        # --- START CODE HERE\n",
        "        self.h1 = torch.nn.Linear(n_in, n_h1)\n",
        "        self.h2 = torch.nn.Linear(n_h1, n_h2)\n",
        "        self.predict = torch.nn.Linear(n_h2, n_out)\n",
        "        # --- END CODE HERE\n",
        "    def forward(self, x):\n",
        "        # --- START CODE HERE\n",
        "        x = F.relu(self.h1(x))\n",
        "        x = F.relu(self.h2(x))\n",
        "        x = self.predict(x)\n",
        "        # --- END CODE HERE\n",
        "        return F.log_softmax(x, dim=1)"
      ]
    },
    {
      "attachments": {},
      "cell_type": "markdown",
      "metadata": {
        "id": "x7qcgKFwyZCz"
      },
      "source": [
        "## Defining the train and test functions\n",
        "\n",
        "In the present lab, we distinguish between train and test data. \n",
        "We therefore write\n",
        "- a train function (to learn the network parameters on the train data),\n",
        "- a test function (to evaluate the network's performances on the test data).\n",
        "\n",
        "The ```train``` and ```test```function will perform the computation for a given ```epoch```.\n",
        "The functions therefore only need to ```loop over``` the mini-batches.\n",
        "This is now easy since we defined our ```Dataloader```for train and test.\n",
        "\n",
        "For the train function, for each mini-batch, we  \n",
        "- compute the forward pass by passing the data to the model: haty = model(x)\n",
        "- compute the the loss (the criterion)\n",
        "- putting at zero the gradients of all the parameters of the network (this is important since, by default, pytorch accumulate the gradients over time)\n",
        "- computing the backpropagation (using as before .backward())\n",
        "- performing one step of optimization (using .step())\n",
        "\n",
        "For the train function, we set the model to train mode (```model.train()```). This allows to set some specific behaviours for training (such as activate the dropout).\n",
        "\n",
        "For the test function, we set the model to train mode (```model.eval()```). This allows to set some specific behaviours for training (such as removing the dropout).\n",
        "\n",
        "\n",
        "Since we are dealing with a multi-class problem (10 classes), we will minimize as loss the ```cross-entropy``` (named negative-log-likelihood ```nll_loss```in pytorch).\n",
        "Since ```nll_loss```does not contains the ```log``` we have added it directly to the softmax by using the ```log_softmax```as output activation of our network.\n",
        "\n",
        "Note that we could use the loss from the nn package (```torch.nn.NLLLoss```) it is then a class which needs to be first instanciated. \n",
        "We can also use the same but as a function (```F.nll_loss()```) which can be used directly without instanciating the class."
      ]
    },
    {
      "cell_type": "code",
      "execution_count": 9,
      "metadata": {
        "id": "3dGuPt96yZCz"
      },
      "outputs": [],
      "source": [
        "def train(model, train_loader, optimizer, epoch):\n",
        "    model.train()\n",
        "    criterion = torch.nn.CrossEntropyLoss()\n",
        "    for batch_idx, (data, target) in enumerate(train_loader):\n",
        "        # --- START CODE HERE\n",
        "        optimizer.zero_grad()\n",
        "        data = data.view(data.size(0), -1)\n",
        "        output = model(data)\n",
        "        loss = criterion(output, target)\n",
        "        loss.backward()\n",
        "        optimizer.step()\n",
        "        # --- END CODE HERE\n",
        "        \n",
        "        if batch_idx % 100 == 0:\n",
        "            print('epoch {}, loss {}'.format(epoch, loss.item()))"
      ]
    },
    {
      "cell_type": "code",
      "execution_count": 7,
      "metadata": {
        "id": "zI8QtzV2yZC0"
      },
      "outputs": [],
      "source": [
        "def test(model, test_loader):\n",
        "    model.eval()\n",
        "    test_loss = 0\n",
        "    correct = 0\n",
        "    with torch.no_grad():\n",
        "        for data, target in test_loader:\n",
        "            # --- START CODE HERE\n",
        "            data = data.view(-1, 28*28)\n",
        "            output = model(data)\n",
        "            test_loss += F.nll_loss(output, target, reduction='sum').item()\n",
        "            pred = output.argmax(dim=1, keepdim=True)\n",
        "            correct += pred.eq(target.view_as(pred)).sum().item()\n",
        "            # --- STOP CODE HERE\n",
        "        \n",
        "    test_loss /= len(test_loader.dataset)\n",
        "    correct /= len(test_loader.dataset)\n",
        "    print('\\nTest set: Average loss: {}, Accuracy: {}\\n'.format(test_loss, correct))"
      ]
    },
    {
      "attachments": {},
      "cell_type": "markdown",
      "metadata": {
        "id": "9MXQIbcJyZC0"
      },
      "source": [
        "## Looping over epochs\n",
        "\n",
        "\n",
        "We finally define, how we will optimize our parameters by defining an optimizer.\n",
        "We will use here a very simple one: the SGD (```optim.SGD```) with a learning rate of 0.01.\n",
        "\n",
        "At each iteration, we then call the train and the test function."
      ]
    },
    {
      "cell_type": "code",
      "execution_count": 10,
      "metadata": {
        "id": "ofYcX05ZyZC0",
        "outputId": "caa2e3bf-aff6-41b5-cbb9-f44031985d84"
      },
      "outputs": [
        {
          "name": "stdout",
          "output_type": "stream",
          "text": [
            "epoch 1, loss 2.3013691902160645\n",
            "epoch 1, loss 0.8736963868141174\n",
            "epoch 1, loss 0.3980712592601776\n",
            "epoch 1, loss 0.3114849627017975\n",
            "epoch 1, loss 0.4781991243362427\n",
            "epoch 1, loss 0.2797324061393738\n",
            "epoch 1, loss 0.23643459379673004\n",
            "epoch 1, loss 0.23251323401927948\n",
            "epoch 1, loss 0.14229479432106018\n",
            "epoch 1, loss 0.149619460105896\n",
            "\n",
            "Test set: Average loss: 0.21767577725052834, Accuracy: 0.9354\n",
            "\n",
            "epoch 2, loss 0.26409459114074707\n",
            "epoch 2, loss 0.2503499388694763\n",
            "epoch 2, loss 0.2693869471549988\n",
            "epoch 2, loss 0.24852100014686584\n",
            "epoch 2, loss 0.1259191781282425\n",
            "epoch 2, loss 0.09485296159982681\n",
            "epoch 2, loss 0.10865110158920288\n",
            "epoch 2, loss 0.11909382045269012\n",
            "epoch 2, loss 0.1928415149450302\n",
            "epoch 2, loss 0.06405483186244965\n",
            "\n",
            "Test set: Average loss: 0.1460120426699519, Accuracy: 0.9563\n",
            "\n",
            "epoch 3, loss 0.05993685498833656\n",
            "epoch 3, loss 0.1501297801733017\n",
            "epoch 3, loss 0.1247270256280899\n",
            "epoch 3, loss 0.144146129488945\n",
            "epoch 3, loss 0.0774352103471756\n",
            "epoch 3, loss 0.0250309519469738\n",
            "epoch 3, loss 0.11628390848636627\n",
            "epoch 3, loss 0.07150132209062576\n",
            "epoch 3, loss 0.06839695572853088\n",
            "epoch 3, loss 0.03492946922779083\n",
            "\n",
            "Test set: Average loss: 0.09915348882228137, Accuracy: 0.9681\n",
            "\n",
            "epoch 4, loss 0.04445779696106911\n",
            "epoch 4, loss 0.07524874061346054\n",
            "epoch 4, loss 0.08019604533910751\n",
            "epoch 4, loss 0.13972218334674835\n",
            "epoch 4, loss 0.058497797697782516\n",
            "epoch 4, loss 0.029271505773067474\n",
            "epoch 4, loss 0.19728872179985046\n",
            "epoch 4, loss 0.09912527352571487\n",
            "epoch 4, loss 0.0442633293569088\n",
            "epoch 4, loss 0.13714580237865448\n",
            "\n",
            "Test set: Average loss: 0.08798124117366969, Accuracy: 0.9722\n",
            "\n",
            "epoch 5, loss 0.040393516421318054\n",
            "epoch 5, loss 0.10266650468111038\n",
            "epoch 5, loss 0.15731483697891235\n",
            "epoch 5, loss 0.0408545657992363\n",
            "epoch 5, loss 0.02540283091366291\n",
            "epoch 5, loss 0.010430227033793926\n",
            "epoch 5, loss 0.10253755003213882\n",
            "epoch 5, loss 0.052805062383413315\n",
            "epoch 5, loss 0.06456954777240753\n",
            "epoch 5, loss 0.027197707444429398\n",
            "\n",
            "Test set: Average loss: 0.08023336501345038, Accuracy: 0.9735\n",
            "\n",
            "epoch 6, loss 0.18957048654556274\n",
            "epoch 6, loss 0.07707087695598602\n",
            "epoch 6, loss 0.09981139749288559\n",
            "epoch 6, loss 0.07460658252239227\n",
            "epoch 6, loss 0.015674585476517677\n",
            "epoch 6, loss 0.04551100358366966\n",
            "epoch 6, loss 0.012755869887769222\n",
            "epoch 6, loss 0.010932576842606068\n",
            "epoch 6, loss 0.009554063901305199\n",
            "epoch 6, loss 0.02344506047666073\n",
            "\n",
            "Test set: Average loss: 0.06959261457696557, Accuracy: 0.9768\n",
            "\n",
            "epoch 7, loss 0.06553152948617935\n",
            "epoch 7, loss 0.0437547005712986\n",
            "epoch 7, loss 0.011485841125249863\n",
            "epoch 7, loss 0.029597964137792587\n",
            "epoch 7, loss 0.062302205711603165\n",
            "epoch 7, loss 0.0941406860947609\n",
            "epoch 7, loss 0.03481884300708771\n",
            "epoch 7, loss 0.15378177165985107\n",
            "epoch 7, loss 0.07523726671934128\n",
            "epoch 7, loss 0.01987319253385067\n",
            "\n",
            "Test set: Average loss: 0.08041150774471462, Accuracy: 0.9731\n",
            "\n",
            "epoch 8, loss 0.08038754761219025\n",
            "epoch 8, loss 0.005559722892940044\n",
            "epoch 8, loss 0.022043609991669655\n",
            "epoch 8, loss 0.010900097899138927\n",
            "epoch 8, loss 0.03204941377043724\n",
            "epoch 8, loss 0.006482215598225594\n",
            "epoch 8, loss 0.0438230000436306\n",
            "epoch 8, loss 0.026249364018440247\n",
            "epoch 8, loss 0.024657070636749268\n",
            "epoch 8, loss 0.06543972343206406\n",
            "\n",
            "Test set: Average loss: 0.06295801404751837, Accuracy: 0.9792\n",
            "\n",
            "epoch 9, loss 0.0169156976044178\n",
            "epoch 9, loss 0.006480724550783634\n",
            "epoch 9, loss 0.02964422106742859\n",
            "epoch 9, loss 0.034678056836128235\n",
            "epoch 9, loss 0.0518486313521862\n",
            "epoch 9, loss 0.030519232153892517\n",
            "epoch 9, loss 0.05968363583087921\n",
            "epoch 9, loss 0.009942867793142796\n",
            "epoch 9, loss 0.0753132551908493\n",
            "epoch 9, loss 0.023485030978918076\n",
            "\n",
            "Test set: Average loss: 0.07129346471307799, Accuracy: 0.9784\n",
            "\n",
            "epoch 10, loss 0.07033590227365494\n",
            "epoch 10, loss 0.0091302040964365\n",
            "epoch 10, loss 0.006612585391849279\n",
            "epoch 10, loss 0.008853970095515251\n",
            "epoch 10, loss 0.010455919429659843\n",
            "epoch 10, loss 0.005536356009542942\n",
            "epoch 10, loss 0.015654221177101135\n",
            "epoch 10, loss 0.005704620853066444\n",
            "epoch 10, loss 0.04850485920906067\n",
            "epoch 10, loss 0.01703149639070034\n",
            "\n",
            "Test set: Average loss: 0.06595646545670461, Accuracy: 0.9796\n",
            "\n"
          ]
        }
      ],
      "source": [
        "model = Net()\n",
        "optimizer = optim.SGD(model.parameters(), lr=0.01, momentum=0.9)\n",
        "nb_epoch = 10\n",
        "for epoch in range(1, nb_epoch + 1):\n",
        "        # --- START CODE HERE\n",
        "        train(model, train_loader, optimizer, epoch)\n",
        "        test(model, test_loader)\n",
        "        # --- END CODE HERE"
      ]
    }
  ],
  "metadata": {
    "colab": {
      "provenance": []
    },
    "kernelspec": {
      "display_name": "Python 3",
      "language": "python",
      "name": "python3"
    },
    "language_info": {
      "codemirror_mode": {
        "name": "ipython",
        "version": 3
      },
      "file_extension": ".py",
      "mimetype": "text/x-python",
      "name": "python",
      "nbconvert_exporter": "python",
      "pygments_lexer": "ipython3",
      "version": "3.10.11"
    },
    "toc": {
      "base_numbering": 1,
      "nav_menu": {},
      "number_sections": true,
      "sideBar": true,
      "skip_h1_title": false,
      "title_cell": "Table of Contents",
      "title_sidebar": "Contents",
      "toc_cell": false,
      "toc_position": {
        "height": "calc(100% - 180px)",
        "left": "10px",
        "top": "150px",
        "width": "165px"
      },
      "toc_section_display": true,
      "toc_window_display": false
    }
  },
  "nbformat": 4,
  "nbformat_minor": 0
}
