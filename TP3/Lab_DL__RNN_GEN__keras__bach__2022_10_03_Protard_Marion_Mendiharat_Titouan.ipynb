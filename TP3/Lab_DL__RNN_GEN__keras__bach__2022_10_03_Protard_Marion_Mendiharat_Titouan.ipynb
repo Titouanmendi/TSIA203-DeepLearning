{
  "cells": [
    {
      "cell_type": "markdown",
      "metadata": {
        "id": "CPOXHysXKGLW"
      },
      "source": [
        "# Lab Deep Learning/ Recurrent Neural Networks/ in keras\n",
        "\n",
        "## Training language model (Many-to-Many) and generating sequences (One-to-Many)\n",
        "\n",
        "**Author: geoffroy.peeters@telecom-paris.fr**\n",
        "\n",
        "**Version**:\n",
        "- 2022/06/15 (changed to tensorfow.keras, added translation of questions in EN)\n",
        "- 2022/10/03 (added ReLU, np_epoch=20)\n",
        "\n",
        "For any remark or suggestion, please feel free to contact me.\n",
        "\n",
        "\n",
        "## Objective:\n",
        "\n",
        "- We will train a network to learn a language model and then use it to generate new sequences.\n",
        "\n",
        "- Instead of training the language model on text-documents (as it is the case in most examples) we will train it to learn the language of the music of [Johann_Sebastian_Bach](https://en.wikipedia.org/wiki/Johann_Sebastian_Bach).\n",
        "For this, we will learn how J. S. Bach's \"Cello suite\" have been composed.\n",
        "Here is an example of a \"Cello suite\" [Link](https://www.youtube.com/watch?v=mGQLXRTl3Z0).\n",
        "\n",
        "- Rather than analyzing the audio signal, we use a symbolic representation of the \"Cello suite\" through their [MIDI files](https://en.wikipedia.org/wiki/MIDI#MIDI_files).\n",
        "  - A MIDI file encodes in a file, the set of musical notes, their duration, and intensity which have to be played by each instrument to \"render\" a musical piece. The \"rendering\" is usually operated by a MIDI synthesizer (such as VLC, QuickTime).\n",
        "\n",
        "- We will first train a language model on the whole set of MIDI files of the \"Cello suites\".\n",
        "- We will then sample this language model to create a new MIDI file which will be a brand new \"Cello suite\" composed by the computer.\n",
        "\n",
        "### Questions:\n",
        "\n",
        "In the bottom part of this lab, you will have to answer a set of questions. Answers to those only necessitates a couple of sentences."
      ]
    },
    {
      "cell_type": "markdown",
      "metadata": {
        "id": "RjlvVXvgbpbW"
      },
      "source": [
        "## Import packages"
      ]
    },
    {
      "cell_type": "code",
      "execution_count": 2,
      "metadata": {
        "id": "IXocQU0HDntL",
        "colab": {
          "base_uri": "https://localhost:8080/"
        },
        "outputId": "c59ab24b-f6b7-4fa2-df9e-fec43fd317ae"
      },
      "outputs": [
        {
          "output_type": "stream",
          "name": "stdout",
          "text": [
            "Looking in indexes: https://pypi.org/simple, https://us-python.pkg.dev/colab-wheels/public/simple/\n",
            "Collecting pretty_midi\n",
            "  Downloading pretty_midi-0.2.10.tar.gz (5.6 MB)\n",
            "\u001b[2K     \u001b[90m━━━━━━━━━━━━━━━━━━━━━━━━━━━━━━━━━━━━━━━━\u001b[0m \u001b[32m5.6/5.6 MB\u001b[0m \u001b[31m64.9 MB/s\u001b[0m eta \u001b[36m0:00:00\u001b[0m\n",
            "\u001b[?25h  Preparing metadata (setup.py) ... \u001b[?25l\u001b[?25hdone\n",
            "Requirement already satisfied: numpy>=1.7.0 in /usr/local/lib/python3.10/dist-packages (from pretty_midi) (1.22.4)\n",
            "Collecting mido>=1.1.16 (from pretty_midi)\n",
            "  Downloading mido-1.2.10-py2.py3-none-any.whl (51 kB)\n",
            "\u001b[2K     \u001b[90m━━━━━━━━━━━━━━━━━━━━━━━━━━━━━━━━━━━━━━━━\u001b[0m \u001b[32m51.1/51.1 kB\u001b[0m \u001b[31m3.8 MB/s\u001b[0m eta \u001b[36m0:00:00\u001b[0m\n",
            "\u001b[?25hRequirement already satisfied: six in /usr/local/lib/python3.10/dist-packages (from pretty_midi) (1.16.0)\n",
            "Building wheels for collected packages: pretty_midi\n",
            "  Building wheel for pretty_midi (setup.py) ... \u001b[?25l\u001b[?25hdone\n",
            "  Created wheel for pretty_midi: filename=pretty_midi-0.2.10-py3-none-any.whl size=5592289 sha256=714aff03c0f18d187d39b6438372070fa5ed8c5cedf38434a5b5af6b8446dfd1\n",
            "  Stored in directory: /root/.cache/pip/wheels/cd/a5/30/7b8b7f58709f5150f67f98fde4b891ebf0be9ef07a8af49f25\n",
            "Successfully built pretty_midi\n",
            "Installing collected packages: mido, pretty_midi\n",
            "Successfully installed mido-1.2.10 pretty_midi-0.2.10\n"
          ]
        }
      ],
      "source": [
        "! pip install pretty_midi\n",
        "\n",
        "import os\n",
        "import pretty_midi\n",
        "from scipy.io import wavfile\n",
        "import IPython\n",
        "\n",
        "from tensorflow.keras import backend as K\n",
        "from tensorflow.keras.models import Sequential\n",
        "from tensorflow.keras.layers import Input, Dense, LSTM, Flatten, Dropout, Activation\n",
        "\n",
        "import matplotlib.pyplot as plt\n",
        "import numpy as np\n",
        "import glob\n",
        "\n",
        "student = True"
      ]
    },
    {
      "cell_type": "markdown",
      "metadata": {
        "id": "B6YQL6s5j93E"
      },
      "source": [
        "# Get the data"
      ]
    },
    {
      "cell_type": "code",
      "execution_count": 3,
      "metadata": {
        "id": "_gZx9igIOvtU"
      },
      "outputs": [],
      "source": [
        "n_x = 79\n",
        "max_T_x = 1000\n",
        "sequence_length = 20\n",
        "T_y_generated = 200"
      ]
    },
    {
      "cell_type": "markdown",
      "metadata": {
        "id": "bgG1EmxKDhE5"
      },
      "source": [
        "## Collect data to create the language model\n",
        "\n",
        "We download the 36 MIDI files corresponding to the 36 \"Cello suites\" composed by J. S. Bach."
      ]
    },
    {
      "cell_type": "code",
      "execution_count": 4,
      "metadata": {
        "id": "C9Tgx3ooDgSP",
        "colab": {
          "base_uri": "https://localhost:8080/"
        },
        "outputId": "a19d23cd-642a-4807-ab96-03400246b943"
      },
      "outputs": [
        {
          "output_type": "stream",
          "name": "stdout",
          "text": [
            "['./cs4-4sar.mid', './cs5-3cou.mid', './cs6-4sar.mid', './cs1-4sar.mid', './cs2-2all.mid', './cs6-3cou.mid', './cs2-5men.mid', './cs2-1pre.mid', './cs3-1pre.mid', './cs3-4sar.mid', './cs6-2all.mid', './cs3-5bou.mid', './cs5-6gig.mid', './cs3-3cou.mid', './cs4-3cou.mid', './cs4-5bou.mid', './cs4-2all.mid', './cs5-1pre.mid', './cs5-5gav.mid', './cs1-2all.mid', './cs1-3cou.mid', './cs6-6gig.mid', './cs2-6gig.mid', './cs3-2all.mid', './cs3-6gig.mid', './cs5-2all.mid', './cs2-3cou.mid', './cs2-4sar.mid', './cs4-1pre.mid', './cs1-6gig.mid', './cs4-6gig.mid', './cs6-5gav.mid', './cs1-1pre.mid', './cs6-1pre.mid', './cs1-5men.mid', './cs5-4sar.mid']\n"
          ]
        }
      ],
      "source": [
        "DIR = './'\n",
        "import urllib.request\n",
        "midiFile_l = ['cs1-2all.mid', 'cs5-1pre.mid', 'cs4-1pre.mid', 'cs3-5bou.mid', 'cs1-4sar.mid', 'cs2-5men.mid', 'cs3-3cou.mid', 'cs2-3cou.mid', 'cs1-6gig.mid', 'cs6-4sar.mid', 'cs4-5bou.mid', 'cs4-3cou.mid', 'cs5-3cou.mid', 'cs6-5gav.mid', 'cs6-6gig.mid', 'cs6-2all.mid', 'cs2-1pre.mid', 'cs3-1pre.mid', 'cs3-6gig.mid', 'cs2-6gig.mid', 'cs2-4sar.mid', 'cs3-4sar.mid', 'cs1-5men.mid', 'cs1-3cou.mid', 'cs6-1pre.mid', 'cs2-2all.mid', 'cs3-2all.mid', 'cs1-1pre.mid', 'cs5-2all.mid', 'cs4-2all.mid', 'cs5-5gav.mid', 'cs4-6gig.mid', 'cs5-6gig.mid', 'cs5-4sar.mid', 'cs4-4sar.mid', 'cs6-3cou.mid']\n",
        "for midiFile in midiFile_l:\n",
        "  #if os.path.isfile(DIR + midiFile) is None:\n",
        "  urllib.request.urlretrieve (\"http://www.jsbach.net/midi/\" + midiFile, DIR + midiFile)\n",
        "nbExample = len(midiFile_l)\n",
        "\n",
        "midiFile_l = glob.glob(DIR + 'cs*.mid')\n",
        "print(midiFile_l)"
      ]
    },
    {
      "cell_type": "markdown",
      "metadata": {
        "id": "HgCE_6urcVsj"
      },
      "source": [
        "## Read and convert all MIDI files"
      ]
    },
    {
      "cell_type": "code",
      "execution_count": 5,
      "metadata": {
        "id": "GEg5c8wfj93K",
        "colab": {
          "base_uri": "https://localhost:8080/"
        },
        "outputId": "31af1304-bba7-4db0-816e-388f11dd997a"
      },
      "outputs": [
        {
          "output_type": "stream",
          "name": "stdout",
          "text": [
            "pitch: 58, start: 0.000000, end: 1.333333, duration: 1.333333\n",
            "pitch: 60, start: 1.333333, end: 2.666666, duration: 1.333333\n",
            "pitch: 61, start: 2.666666, end: 3.999999, duration: 1.333333\n",
            "pitch: 61, start: 3.999999, end: 4.999999, duration: 1.000000\n",
            "pitch: 58, start: 4.999999, end: 5.333332, duration: 0.333333\n",
            "pitch: 60, start: 5.333332, end: 6.999998, duration: 1.666666\n",
            "pitch: 58, start: 6.999998, end: 7.333331, duration: 0.333333\n",
            "pitch: 56, start: 7.333331, end: 7.666665, duration: 0.333333\n",
            "pitch: 55, start: 7.666665, end: 7.999998, duration: 0.333333\n",
            "pitch: 53, start: 7.999998, end: 9.333331, duration: 1.333333\n",
            "pitch: 55, start: 9.333331, end: 10.666664, duration: 1.333333\n",
            "pitch: 56, start: 10.666664, end: 11.999997, duration: 1.333333\n",
            "pitch: 56, start: 11.999997, end: 12.999997, duration: 1.000000\n",
            "pitch: 53, start: 12.999997, end: 13.333330, duration: 0.333333\n",
            "pitch: 55, start: 13.333330, end: 14.333330, duration: 1.000000\n",
            "pitch: 58, start: 14.333330, end: 14.666663, duration: 0.333333\n",
            "pitch: 51, start: 14.666663, end: 16.999996, duration: 2.333333\n",
            "pitch: 48, start: 16.999996, end: 17.333329, duration: 0.333333\n",
            "pitch: 50, start: 17.333329, end: 18.333329, duration: 1.000000\n",
            "pitch: 53, start: 18.333329, end: 18.666662, duration: 0.333333\n",
            "pitch: 56, start: 18.666662, end: 19.999995, duration: 1.333333\n",
            "pitch: 56, start: 19.999995, end: 20.999995, duration: 1.000000\n",
            "pitch: 53, start: 20.999995, end: 21.333328, duration: 0.333333\n",
            "pitch: 55, start: 21.333328, end: 22.333328, duration: 1.000000\n",
            "pitch: 58, start: 22.333328, end: 22.666661, duration: 0.333333\n",
            "pitch: 61, start: 22.666661, end: 24.999994, duration: 2.333333\n",
            "pitch: 58, start: 24.999994, end: 25.333327, duration: 0.333333\n",
            "pitch: 60, start: 25.333327, end: 26.333327, duration: 1.000000\n",
            "pitch: 64, start: 26.333327, end: 26.666660, duration: 0.333333\n",
            "pitch: 67, start: 26.666660, end: 27.999993, duration: 1.333333\n",
            "pitch: 58, start: 27.999993, end: 29.333326, duration: 1.333333\n",
            "pitch: 57, start: 29.333326, end: 30.333326, duration: 1.000000\n",
            "pitch: 55, start: 30.333326, end: 30.666659, duration: 0.333333\n",
            "pitch: 53, start: 30.666659, end: 31.666659, duration: 1.000000\n",
            "pitch: 51, start: 31.666659, end: 31.999992, duration: 0.333333\n",
            "pitch: 50, start: 31.999992, end: 33.333325, duration: 1.333333\n",
            "pitch: 51, start: 35.999991, end: 37.333324, duration: 1.333333\n",
            "pitch: 53, start: 39.999990, end: 41.333323, duration: 1.333333\n",
            "pitch: 58, start: 47.999988, end: 49.333321, duration: 1.333333\n",
            "pitch: 60, start: 49.333321, end: 50.666654, duration: 1.333333\n",
            "pitch: 61, start: 50.666654, end: 51.999987, duration: 1.333333\n",
            "pitch: 61, start: 51.999987, end: 52.999987, duration: 1.000000\n",
            "pitch: 58, start: 52.999987, end: 53.333320, duration: 0.333333\n",
            "pitch: 60, start: 53.333320, end: 54.999986, duration: 1.666666\n",
            "pitch: 58, start: 54.999986, end: 55.333319, duration: 0.333333\n",
            "pitch: 56, start: 55.333319, end: 55.666653, duration: 0.333333\n",
            "pitch: 55, start: 55.666653, end: 55.999986, duration: 0.333333\n",
            "pitch: 53, start: 55.999986, end: 57.333319, duration: 1.333333\n",
            "pitch: 55, start: 57.333319, end: 58.666652, duration: 1.333333\n",
            "pitch: 56, start: 58.666652, end: 59.999985, duration: 1.333333\n",
            "pitch: 56, start: 59.999985, end: 60.999985, duration: 1.000000\n",
            "pitch: 53, start: 60.999985, end: 61.333318, duration: 0.333333\n",
            "pitch: 55, start: 61.333318, end: 62.333318, duration: 1.000000\n",
            "pitch: 58, start: 62.333318, end: 62.666651, duration: 0.333333\n",
            "pitch: 51, start: 62.666651, end: 64.999984, duration: 2.333333\n",
            "pitch: 48, start: 64.999984, end: 65.333317, duration: 0.333333\n",
            "pitch: 50, start: 65.333317, end: 66.333317, duration: 1.000000\n",
            "pitch: 53, start: 66.333317, end: 66.666650, duration: 0.333333\n",
            "pitch: 56, start: 66.666650, end: 67.999983, duration: 1.333333\n",
            "pitch: 56, start: 67.999983, end: 68.999983, duration: 1.000000\n",
            "pitch: 53, start: 68.999983, end: 69.333316, duration: 0.333333\n",
            "pitch: 55, start: 69.333316, end: 70.333316, duration: 1.000000\n",
            "pitch: 58, start: 70.333316, end: 70.666649, duration: 0.333333\n",
            "pitch: 61, start: 70.666649, end: 72.999982, duration: 2.333333\n",
            "pitch: 58, start: 72.999982, end: 73.333315, duration: 0.333333\n",
            "pitch: 60, start: 73.333315, end: 74.333315, duration: 1.000000\n",
            "pitch: 64, start: 74.333315, end: 74.666648, duration: 0.333333\n",
            "pitch: 67, start: 74.666648, end: 75.999981, duration: 1.333333\n",
            "pitch: 58, start: 75.999981, end: 77.333314, duration: 1.333333\n",
            "pitch: 57, start: 77.333314, end: 78.333314, duration: 1.000000\n",
            "pitch: 55, start: 78.333314, end: 78.666647, duration: 0.333333\n",
            "pitch: 53, start: 78.666647, end: 79.666647, duration: 1.000000\n",
            "pitch: 51, start: 79.666647, end: 79.999980, duration: 0.333333\n",
            "pitch: 50, start: 79.999980, end: 81.333313, duration: 1.333333\n",
            "pitch: 51, start: 83.999979, end: 85.333312, duration: 1.333333\n",
            "pitch: 53, start: 87.999978, end: 89.333311, duration: 1.333333\n",
            "pitch: 53, start: 95.999976, end: 97.333309, duration: 1.333333\n",
            "pitch: 55, start: 97.333309, end: 98.666642, duration: 1.333333\n",
            "pitch: 56, start: 98.666642, end: 100.999975, duration: 2.333333\n",
            "pitch: 53, start: 100.999975, end: 101.333308, duration: 0.333333\n",
            "pitch: 55, start: 101.333308, end: 102.999974, duration: 1.666666\n",
            "pitch: 53, start: 102.999974, end: 103.333307, duration: 0.333333\n",
            "pitch: 51, start: 103.333307, end: 103.666641, duration: 0.333333\n",
            "pitch: 50, start: 103.666641, end: 103.999974, duration: 0.333333\n",
            "pitch: 63, start: 103.999974, end: 105.333307, duration: 1.333333\n",
            "pitch: 62, start: 105.333307, end: 106.666640, duration: 1.333333\n",
            "pitch: 60, start: 106.666640, end: 107.999973, duration: 1.333333\n",
            "pitch: 60, start: 107.999973, end: 108.999973, duration: 1.000000\n",
            "pitch: 57, start: 108.999973, end: 109.333306, duration: 0.333333\n",
            "pitch: 59, start: 109.333306, end: 110.333306, duration: 1.000000\n",
            "pitch: 62, start: 110.333306, end: 110.666639, duration: 0.333333\n",
            "pitch: 55, start: 110.666639, end: 111.666639, duration: 1.000000\n",
            "pitch: 53, start: 111.666639, end: 111.999972, duration: 0.333333\n",
            "pitch: 52, start: 111.999972, end: 113.333305, duration: 1.333333\n",
            "pitch: 53, start: 113.333305, end: 114.666638, duration: 1.333333\n",
            "pitch: 55, start: 114.666638, end: 115.999971, duration: 1.333333\n",
            "pitch: 56, start: 115.999971, end: 116.999971, duration: 1.000000\n",
            "pitch: 53, start: 116.999971, end: 117.333304, duration: 0.333333\n",
            "pitch: 50, start: 117.333304, end: 118.333304, duration: 1.000000\n",
            "pitch: 59, start: 118.333304, end: 118.666637, duration: 0.333333\n",
            "pitch: 60, start: 118.666637, end: 120.999970, duration: 2.333333\n",
            "pitch: 62, start: 120.999970, end: 121.333303, duration: 0.333333\n",
            "pitch: 62, start: 121.333303, end: 123.333303, duration: 2.000000\n",
            "pitch: 60, start: 123.333303, end: 123.999969, duration: 0.666666\n",
            "pitch: 60, start: 123.999969, end: 124.999969, duration: 1.000000\n",
            "pitch: 55, start: 124.999969, end: 125.333302, duration: 0.333333\n",
            "pitch: 51, start: 125.333302, end: 126.333302, duration: 1.000000\n",
            "pitch: 55, start: 126.333302, end: 126.666635, duration: 0.333333\n",
            "pitch: 48, start: 126.666635, end: 127.666635, duration: 1.000000\n",
            "pitch: 46, start: 127.666635, end: 127.999968, duration: 0.333333\n",
            "pitch: 45, start: 127.999968, end: 129.333301, duration: 1.333333\n",
            "pitch: 46, start: 131.999967, end: 133.333300, duration: 1.333333\n",
            "pitch: 39, start: 135.999966, end: 137.333299, duration: 1.333333\n",
            "pitch: 36, start: 138.666632, end: 139.999965, duration: 1.333333\n",
            "pitch: 44, start: 163.999959, end: 164.666625, duration: 0.666666\n",
            "pitch: 43, start: 167.999958, end: 168.666624, duration: 0.666666\n",
            "pitch: 44, start: 169.333291, end: 169.999957, duration: 0.666666\n",
            "pitch: 53, start: 175.999956, end: 177.333289, duration: 1.333333\n",
            "pitch: 55, start: 177.333289, end: 178.666622, duration: 1.333333\n",
            "pitch: 56, start: 178.666622, end: 180.999955, duration: 2.333333\n",
            "pitch: 53, start: 180.999955, end: 181.333288, duration: 0.333333\n",
            "pitch: 55, start: 181.333288, end: 182.999954, duration: 1.666666\n",
            "pitch: 53, start: 182.999954, end: 183.333287, duration: 0.333333\n",
            "pitch: 51, start: 183.333287, end: 183.666621, duration: 0.333333\n",
            "pitch: 50, start: 183.666621, end: 183.999954, duration: 0.333333\n",
            "pitch: 63, start: 183.999954, end: 185.333287, duration: 1.333333\n",
            "pitch: 62, start: 185.333287, end: 186.666620, duration: 1.333333\n",
            "pitch: 60, start: 186.666620, end: 187.999953, duration: 1.333333\n",
            "pitch: 60, start: 187.999953, end: 188.999953, duration: 1.000000\n",
            "pitch: 57, start: 188.999953, end: 189.333286, duration: 0.333333\n",
            "pitch: 59, start: 189.333286, end: 190.333286, duration: 1.000000\n",
            "pitch: 62, start: 190.333286, end: 190.666619, duration: 0.333333\n",
            "pitch: 55, start: 190.666619, end: 191.666619, duration: 1.000000\n",
            "pitch: 53, start: 191.666619, end: 191.999952, duration: 0.333333\n",
            "pitch: 52, start: 191.999952, end: 193.333285, duration: 1.333333\n",
            "pitch: 53, start: 193.333285, end: 194.666618, duration: 1.333333\n",
            "pitch: 55, start: 194.666618, end: 195.999951, duration: 1.333333\n",
            "pitch: 56, start: 195.999951, end: 196.999951, duration: 1.000000\n",
            "pitch: 53, start: 196.999951, end: 197.333284, duration: 0.333333\n",
            "pitch: 50, start: 197.333284, end: 198.333284, duration: 1.000000\n",
            "pitch: 59, start: 198.333284, end: 198.666617, duration: 0.333333\n",
            "pitch: 60, start: 198.666617, end: 200.999950, duration: 2.333333\n",
            "pitch: 62, start: 200.999950, end: 201.333283, duration: 0.333333\n",
            "pitch: 62, start: 201.333283, end: 203.333282, duration: 2.000000\n",
            "pitch: 60, start: 203.333282, end: 203.999949, duration: 0.666666\n",
            "pitch: 60, start: 203.999949, end: 204.999949, duration: 1.000000\n",
            "pitch: 55, start: 204.999949, end: 205.333282, duration: 0.333333\n",
            "pitch: 51, start: 205.333282, end: 206.333282, duration: 1.000000\n",
            "pitch: 55, start: 206.333282, end: 206.666615, duration: 0.333333\n",
            "pitch: 48, start: 206.666615, end: 207.666615, duration: 1.000000\n",
            "pitch: 46, start: 207.666615, end: 207.999948, duration: 0.333333\n",
            "pitch: 45, start: 207.999948, end: 209.333281, duration: 1.333333\n",
            "pitch: 46, start: 211.999947, end: 213.333280, duration: 1.333333\n",
            "pitch: 39, start: 215.999946, end: 217.333279, duration: 1.333333\n",
            "pitch: 36, start: 218.666612, end: 219.999945, duration: 1.333333\n",
            "pitch: 44, start: 243.999939, end: 244.666606, duration: 0.666667\n",
            "pitch: 43, start: 247.999938, end: 248.666604, duration: 0.666666\n",
            "pitch: 44, start: 249.333271, end: 249.999937, duration: 0.666666\n"
          ]
        }
      ],
      "source": [
        "# --- Read a single MIDI file\n",
        "midi_data = pretty_midi.PrettyMIDI(midiFile_l[0])\n",
        "# --- Display the note pitch, start, end and duration\n",
        "for note in midi_data.instruments[0].notes:\n",
        "    print('pitch: %d, start: %f, end: %f, duration: %f' % (note.pitch, note.start, note.end, note.end-note.start))"
      ]
    },
    {
      "cell_type": "markdown",
      "metadata": {
        "id": "mDofyEKjcd4E"
      },
      "source": [
        "We read all MIDI files and convert their content to one-hot-encoding matrix X_ohe of dimensions (T_x, n_x) where n_x is the number of possible musical notes.\n",
        "The duration of the sequences T_x can vary from one sequence to the other.\n",
        "\n"
      ]
    },
    {
      "cell_type": "code",
      "execution_count": 6,
      "metadata": {
        "id": "EirVcbKxEe-3",
        "colab": {
          "base_uri": "https://localhost:8080/"
        },
        "outputId": "9287aaa0-2226-4f73-8568-785f4a939b39"
      },
      "outputs": [
        {
          "output_type": "stream",
          "name": "stdout",
          "text": [
            "36\n",
            "(158, 79)\n",
            "(352, 79)\n",
            "(162, 79)\n"
          ]
        }
      ],
      "source": [
        "# --- We truncate the duration of each example to the first T_x data\n",
        "\n",
        "X_list = []\n",
        "\n",
        "for midiFile in midiFile_l:\n",
        "    # read the MIDI file\n",
        "    midi_data = pretty_midi.PrettyMIDI(midiFile)\n",
        "    note_l = [note.pitch for note in midi_data.instruments[0].notes]\n",
        "    # convert to one-hot-encoding\n",
        "    T_x = len(note_l)\n",
        "    if T_x > max_T_x:\n",
        "        T_x = max_T_x\n",
        "    X_ohe = np.zeros((T_x, n_x))\n",
        "    for t in range(T_x):\n",
        "        X_ohe[t, note_l[t]-1] = 1\n",
        "    # add to the list\n",
        "    X_list.append(X_ohe)\n",
        "\n",
        "print(len(X_list))\n",
        "print(X_list[0].shape)\n",
        "print(X_list[1].shape)\n",
        "print(X_list[2].shape)"
      ]
    },
    {
      "cell_type": "markdown",
      "metadata": {
        "id": "nSf8RDL5cv7V"
      },
      "source": [
        "## Display the set of notes over time for a specific track"
      ]
    },
    {
      "cell_type": "code",
      "execution_count": 7,
      "metadata": {
        "id": "wesPFMZHcvKG",
        "colab": {
          "base_uri": "https://localhost:8080/",
          "height": 525
        },
        "outputId": "c41b2eb6-94b4-4494-8322-cf288478a63f"
      },
      "outputs": [
        {
          "output_type": "display_data",
          "data": {
            "text/plain": [
              "<Figure size 1600x600 with 1 Axes>"
            ],
            "image/png": "[encoded data removed]"
          },
          "metadata": {}
        }
      ],
      "source": [
        "plt.figure(figsize=(16, 6))\n",
        "plt.imshow(X_list[2].T, aspect='auto')\n",
        "plt.set_cmap('gray_r')\n",
        "plt.grid(True)"
      ]
    },
    {
      "cell_type": "markdown",
      "metadata": {
        "id": "PMHtioR_c5y3"
      },
      "source": [
        "## Data conversion for the training of language model\n",
        "\n",
        "For each example/sequence and each possible starting note in this example/sequence, we create two sequences\n",
        "- an input sequence:\n",
        "  - which contains a sub-sequence of length ```sequence_length```;  this sub-sequence range from the note $t$ to the note $t+sequence\\_length-1$\n",
        "- an output sequence:\n",
        "  - which contains the following note to be predicted, the one at position $t+sequence\\_length$\n",
        "\n",
        "The training is therefore performed by giving to the model a set of sequences as input and asking the network to predict each time the note that should come right after this sequence.\n",
        "\n",
        "<img src=\"https://perso.telecom-paristech.fr/gpeeters/doc/Lab_DL_RNN_02.png\">\n"
      ]
    },
    {
      "cell_type": "code",
      "execution_count": 8,
      "metadata": {
        "id": "EGzvp4RCC0XX",
        "colab": {
          "base_uri": "https://localhost:8080/"
        },
        "outputId": "fdf23e84-ec12-4ffb-9e21-12e4681f5cec"
      },
      "outputs": [
        {
          "output_type": "stream",
          "name": "stdout",
          "text": [
            "X_train.shape: (23781, 20, 79)\n",
            "y_train.shape: (23781, 79)\n"
          ]
        }
      ],
      "source": [
        "X_train_list = []\n",
        "y_train_list = []\n",
        "\n",
        "if student:\n",
        "    # --- START CODE HERE (01)\n",
        "    for sequence in X_list:\n",
        "        for t in range(len(sequence) - sequence_length):\n",
        "            input_seq = sequence[t:t+sequence_length]\n",
        "            output_seq = sequence[t+sequence_length]\n",
        "            X_train_list.append(input_seq)\n",
        "            y_train_list.append(output_seq)\n",
        "    # --- END CODE HERE\n",
        "\n",
        "X_train = np.asarray(X_train_list)\n",
        "y_train = np.asarray(y_train_list)\n",
        "\n",
        "print(\"X_train.shape:\", X_train.shape)\n",
        "print(\"y_train.shape:\", y_train.shape)"
      ]
    },
    {
      "cell_type": "markdown",
      "metadata": {
        "id": "HhNPrmvveuH3"
      },
      "source": [
        "# Training the language model\n",
        "\n",
        "The language model will be learned by training an RNN with input `X_train` and output `Y_train`:  for each of the examples of sequences, we give to the network a sequence of notes of `sequence_length` duration, and ask the network to predict the following note of each sequence.\n",
        "\n",
        "The network will have the following structure\n",
        "- (1a) a layer of `LSTM` with $n_a$=256\n",
        "- (1b) a layer of DropOut with rate 0.3 (the probability to \"drop-out\" one neuron is 0.3)\n",
        "- (2a) a layer of `LSTM` with $n_a$=256\n",
        "- (2b) a layer of DropOut with rate 0.3 (the probability to \"drop-out\" one neuron is 0.3)\n",
        "- (3) a layer of `LSTM` with $n_a$=256\n",
        "- (4a) a layer of `Dense` with 256 units and a `ReLU` activation\n",
        "- (4b) a layer of DropOut with rate 0.3 (the probability to \"drop-out\" one neuron is 0.3)\n",
        "- (5) a layer of `Dense` with a `softmax` activation which predict the probability of each of the $n_x$ notes as output\n",
        "\n",
        "## Returning the hidden states at each time of an LSTM cell\n",
        "\n",
        "Note that when we stack one LSTM layer on top of a second LSTM layer (deep-RNN), we need to tell the first LSTM to output its hidden states at each time $t$. This is done by the option `return_sequences=True` that has to be given as parameter to the LSTM on top of the other one.\n",
        "This is the case for (1a) and (2a).\n",
        "\n",
        "However, since we are only interrested in the last hidden state of the third LSTM (since we are only interrest in its prediction at time $T_x$), we give the option `return_sequences=False` (which is the default behaviour) for the third LSTM.\n",
        "This is the case for (3)."
      ]
    },
    {
      "cell_type": "code",
      "execution_count": 9,
      "metadata": {
        "id": "epWHM4p6D5n7",
        "colab": {
          "base_uri": "https://localhost:8080/"
        },
        "outputId": "0c146bf2-7f02-4a18-d7b6-0af1b4592ebd"
      },
      "outputs": [
        {
          "output_type": "stream",
          "name": "stdout",
          "text": [
            "Model: \"sequential\"\n",
            "_________________________________________________________________\n",
            " Layer (type)                Output Shape              Param #   \n",
            "=================================================================\n",
            " lstm (LSTM)                 (None, 20, 256)           344064    \n",
            "                                                                 \n",
            " dropout (Dropout)           (None, 20, 256)           0         \n",
            "                                                                 \n",
            " lstm_1 (LSTM)               (None, 20, 256)           525312    \n",
            "                                                                 \n",
            " dropout_1 (Dropout)         (None, 20, 256)           0         \n",
            "                                                                 \n",
            " lstm_2 (LSTM)               (None, 256)               525312    \n",
            "                                                                 \n",
            " dense (Dense)               (None, 256)               65792     \n",
            "                                                                 \n",
            " dropout_2 (Dropout)         (None, 256)               0         \n",
            "                                                                 \n",
            " dense_1 (Dense)             (None, 79)                20303     \n",
            "                                                                 \n",
            "=================================================================\n",
            "Total params: 1,480,783\n",
            "Trainable params: 1,480,783\n",
            "Non-trainable params: 0\n",
            "_________________________________________________________________\n",
            "None\n"
          ]
        }
      ],
      "source": [
        "# --- Create the model\n",
        "K.clear_session()\n",
        "\n",
        "na = 256  # Number of LSTM units\n",
        "\n",
        "if student:\n",
        "    # --- START CODE HERE (02)\n",
        "    model = Sequential()\n",
        "    model.add(LSTM(na, return_sequences=True, input_shape=(sequence_length, n_x)))\n",
        "    model.add(Dropout(0.3))\n",
        "    model.add(LSTM(na, return_sequences=True))\n",
        "    model.add(Dropout(0.3))\n",
        "    model.add(LSTM(na, return_sequences=False))\n",
        "    model.add(Dense(256, activation='relu'))\n",
        "    model.add(Dropout(0.3))\n",
        "    model.add(Dense(n_x, activation='softmax'))\n",
        "    # --- END CODE HERE\n",
        "\n",
        "print(model.summary())"
      ]
    },
    {
      "cell_type": "code",
      "execution_count": 11,
      "metadata": {
        "id": "yhWTNfIbFDmf",
        "colab": {
          "base_uri": "https://localhost:8080/"
        },
        "outputId": "b8f8b460-14cf-4a95-98e9-9a3fcc0b9d4a"
      },
      "outputs": [
        {
          "output_type": "stream",
          "name": "stdout",
          "text": [
            "Epoch 1/20\n",
            "372/372 [==============================] - 19s 11ms/step - loss: 3.0356 - accuracy: 0.1001\n",
            "Epoch 2/20\n",
            "372/372 [==============================] - 4s 10ms/step - loss: 2.6996 - accuracy: 0.1453\n",
            "Epoch 3/20\n",
            "372/372 [==============================] - 3s 9ms/step - loss: 2.5653 - accuracy: 0.1758\n",
            "Epoch 4/20\n",
            "372/372 [==============================] - 4s 10ms/step - loss: 2.5087 - accuracy: 0.1969\n",
            "Epoch 5/20\n",
            "372/372 [==============================] - 4s 11ms/step - loss: 2.4540 - accuracy: 0.2350\n",
            "Epoch 6/20\n",
            "372/372 [==============================] - 4s 10ms/step - loss: 2.3940 - accuracy: 0.2613\n",
            "Epoch 7/20\n",
            "372/372 [==============================] - 4s 10ms/step - loss: 2.3441 - accuracy: 0.2816\n",
            "Epoch 8/20\n",
            "372/372 [==============================] - 4s 11ms/step - loss: 2.2898 - accuracy: 0.3002\n",
            "Epoch 9/20\n",
            "372/372 [==============================] - 4s 9ms/step - loss: 2.2296 - accuracy: 0.3228\n",
            "Epoch 10/20\n",
            "372/372 [==============================] - 3s 9ms/step - loss: 2.1676 - accuracy: 0.3388\n",
            "Epoch 11/20\n",
            "372/372 [==============================] - 4s 10ms/step - loss: 2.0946 - accuracy: 0.3584\n",
            "Epoch 12/20\n",
            "372/372 [==============================] - 4s 10ms/step - loss: 2.0168 - accuracy: 0.3794\n",
            "Epoch 13/20\n",
            "372/372 [==============================] - 3s 9ms/step - loss: 1.9305 - accuracy: 0.4049\n",
            "Epoch 14/20\n",
            "372/372 [==============================] - 4s 9ms/step - loss: 1.8303 - accuracy: 0.4300\n",
            "Epoch 15/20\n",
            "372/372 [==============================] - 4s 11ms/step - loss: 1.7226 - accuracy: 0.4621\n",
            "Epoch 16/20\n",
            "372/372 [==============================] - 3s 9ms/step - loss: 1.5925 - accuracy: 0.4977\n",
            "Epoch 17/20\n",
            "372/372 [==============================] - 3s 9ms/step - loss: 1.4705 - accuracy: 0.5290\n",
            "Epoch 18/20\n",
            "372/372 [==============================] - 4s 11ms/step - loss: 1.3440 - accuracy: 0.5685\n",
            "Epoch 19/20\n",
            "372/372 [==============================] - 4s 10ms/step - loss: 1.2192 - accuracy: 0.6076\n",
            "Epoch 20/20\n",
            "372/372 [==============================] - 3s 9ms/step - loss: 1.1036 - accuracy: 0.6427\n"
          ]
        },
        {
          "output_type": "execute_result",
          "data": {
            "text/plain": [
              "<keras.callbacks.History at 0x7fa9a97a4250>"
            ]
          },
          "metadata": {},
          "execution_count": 11
        }
      ],
      "source": [
        "# --- Compile and fit the model\n",
        "model.compile(loss='categorical_crossentropy', optimizer='rmsprop', metrics=['accuracy'])\n",
        "model.fit(X_train, y_train, epochs=20, batch_size=64)"
      ]
    },
    {
      "cell_type": "markdown",
      "metadata": {
        "id": "xM6g1YR3gtcO"
      },
      "source": [
        "# Generating a new sequence from sampling the language model\n",
        "\n",
        "To generate a new sequence from the language model, we simply give it as input a random sequence of duration ```sequence_length```and ask the trained network to predict the output (using ```model.predict```).\n",
        "\n",
        "The output of the network is a vector of probability of dimension $n_x$ which represents the probability of each note to be the next note of the melody given as input.\n",
        "\n",
        "From this vector, we select the note which has the maximum probability.\n",
        "\n",
        "We then concatenate this new note (its one-hot-encoding representation) at the end of the input sequence.\n",
        "We finally remove the first element of the input sequence to keep its duration constant (```sequence_length```).\n",
        "\n",
        "Instead of providing a random sequence as input, we rather randomly select one sequence out of the 23.781 sequences used for training.\n",
        "\n",
        "- The ```pattern``` variable is the ```list``` of init notes to which we progressively append the new generated notes by the model.\n",
        "- The ```prediction``` variable is a ```list``` which stores the softmax probability vector (a numpy array) corresponding to each generation time.\n"
      ]
    },
    {
      "cell_type": "code",
      "execution_count": 12,
      "metadata": {
        "id": "_YHXTohsFGCX",
        "colab": {
          "base_uri": "https://localhost:8080/"
        },
        "outputId": "a019ff00-806b-42e1-ce34-fd84071c0d23"
      },
      "outputs": [
        {
          "output_type": "stream",
          "name": "stdout",
          "text": [
            "3820\n",
            "(20, 79)\n",
            "(1, 20, 79)\n"
          ]
        }
      ],
      "source": [
        "# --- Select a random starting pattern\n",
        "start = np.random.randint(0, len(X_train_list)-1)\n",
        "pattern = X_train_list[start]\n",
        "print(start)\n",
        "print(pattern.shape)\n",
        "print(np.expand_dims(pattern, 0).shape)"
      ]
    },
    {
      "cell_type": "code",
      "source": [
        "print(pattern.min())"
      ],
      "metadata": {
        "colab": {
          "base_uri": "https://localhost:8080/"
        },
        "id": "ld6zakEl-tvM",
        "outputId": "1c062738-fb81-427a-bdb5-d94dbf04fe20"
      },
      "execution_count": 13,
      "outputs": [
        {
          "output_type": "stream",
          "name": "stdout",
          "text": [
            "0.0\n"
          ]
        }
      ]
    },
    {
      "cell_type": "code",
      "execution_count": 14,
      "metadata": {
        "id": "f_ADCs7uFW8m",
        "colab": {
          "base_uri": "https://localhost:8080/",
          "height": 796
        },
        "outputId": "a126e4e1-434a-462e-fd09-4c191ca0370a"
      },
      "outputs": [
        {
          "output_type": "stream",
          "name": "stdout",
          "text": [
            "1/1 [==============================] - 1s 939ms/step\n"
          ]
        },
        {
          "output_type": "error",
          "ename": "TypeError",
          "evalue": "ignored",
          "traceback": [
            "\u001b[0;31m---------------------------------------------------------------------------\u001b[0m",
            "\u001b[0;31mTypeError\u001b[0m                                 Traceback (most recent call last)",
            "\u001b[0;32m<ipython-input-14-8b326523ed42>\u001b[0m in \u001b[0;36m<cell line: 6>\u001b[0;34m()\u001b[0m\n\u001b[1;32m      7\u001b[0m     \u001b[0;32mif\u001b[0m \u001b[0mstudent\u001b[0m\u001b[0;34m:\u001b[0m\u001b[0;34m\u001b[0m\u001b[0;34m\u001b[0m\u001b[0m\n\u001b[1;32m      8\u001b[0m         \u001b[0mx\u001b[0m \u001b[0;34m=\u001b[0m \u001b[0mnp\u001b[0m\u001b[0;34m.\u001b[0m\u001b[0mexpand_dims\u001b[0m\u001b[0;34m(\u001b[0m\u001b[0mpattern\u001b[0m\u001b[0;34m,\u001b[0m \u001b[0;36m0\u001b[0m\u001b[0;34m)\u001b[0m\u001b[0;34m\u001b[0m\u001b[0;34m\u001b[0m\u001b[0m\n\u001b[0;32m----> 9\u001b[0;31m         \u001b[0mprediction\u001b[0m \u001b[0;34m=\u001b[0m \u001b[0mmodel\u001b[0m\u001b[0;34m.\u001b[0m\u001b[0mpredict\u001b[0m\u001b[0;34m(\u001b[0m\u001b[0mx\u001b[0m\u001b[0;34m)\u001b[0m\u001b[0;34m[\u001b[0m\u001b[0;36m0\u001b[0m\u001b[0;34m]\u001b[0m\u001b[0;34m\u001b[0m\u001b[0;34m\u001b[0m\u001b[0m\n\u001b[0m\u001b[1;32m     10\u001b[0m         \u001b[0mpredicted_note\u001b[0m \u001b[0;34m=\u001b[0m \u001b[0mnp\u001b[0m\u001b[0;34m.\u001b[0m\u001b[0margmax\u001b[0m\u001b[0;34m(\u001b[0m\u001b[0mprediction\u001b[0m\u001b[0;34m)\u001b[0m\u001b[0;34m\u001b[0m\u001b[0;34m\u001b[0m\u001b[0m\n\u001b[1;32m     11\u001b[0m         \u001b[0mnote_l\u001b[0m\u001b[0;34m.\u001b[0m\u001b[0mappend\u001b[0m\u001b[0;34m(\u001b[0m\u001b[0mpredicted_note\u001b[0m\u001b[0;34m)\u001b[0m\u001b[0;34m\u001b[0m\u001b[0;34m\u001b[0m\u001b[0m\n",
            "\u001b[0;32m/usr/local/lib/python3.10/dist-packages/keras/utils/traceback_utils.py\u001b[0m in \u001b[0;36merror_handler\u001b[0;34m(*args, **kwargs)\u001b[0m\n\u001b[1;32m     68\u001b[0m             \u001b[0;31m# To get the full stack trace, call:\u001b[0m\u001b[0;34m\u001b[0m\u001b[0;34m\u001b[0m\u001b[0m\n\u001b[1;32m     69\u001b[0m             \u001b[0;31m# `tf.debugging.disable_traceback_filtering()`\u001b[0m\u001b[0;34m\u001b[0m\u001b[0;34m\u001b[0m\u001b[0m\n\u001b[0;32m---> 70\u001b[0;31m             \u001b[0;32mraise\u001b[0m \u001b[0me\u001b[0m\u001b[0;34m.\u001b[0m\u001b[0mwith_traceback\u001b[0m\u001b[0;34m(\u001b[0m\u001b[0mfiltered_tb\u001b[0m\u001b[0;34m)\u001b[0m \u001b[0;32mfrom\u001b[0m \u001b[0;32mNone\u001b[0m\u001b[0;34m\u001b[0m\u001b[0;34m\u001b[0m\u001b[0m\n\u001b[0m\u001b[1;32m     71\u001b[0m         \u001b[0;32mfinally\u001b[0m\u001b[0;34m:\u001b[0m\u001b[0;34m\u001b[0m\u001b[0;34m\u001b[0m\u001b[0m\n\u001b[1;32m     72\u001b[0m             \u001b[0;32mdel\u001b[0m \u001b[0mfiltered_tb\u001b[0m\u001b[0;34m\u001b[0m\u001b[0;34m\u001b[0m\u001b[0m\n",
            "\u001b[0;32m/usr/local/lib/python3.10/dist-packages/keras/engine/training.py\u001b[0m in \u001b[0;36mtf__predict_function\u001b[0;34m(iterator)\u001b[0m\n\u001b[1;32m     13\u001b[0m                 \u001b[0;32mtry\u001b[0m\u001b[0;34m:\u001b[0m\u001b[0;34m\u001b[0m\u001b[0;34m\u001b[0m\u001b[0m\n\u001b[1;32m     14\u001b[0m                     \u001b[0mdo_return\u001b[0m \u001b[0;34m=\u001b[0m \u001b[0;32mTrue\u001b[0m\u001b[0;34m\u001b[0m\u001b[0;34m\u001b[0m\u001b[0m\n\u001b[0;32m---> 15\u001b[0;31m                     \u001b[0mretval_\u001b[0m \u001b[0;34m=\u001b[0m \u001b[0mag__\u001b[0m\u001b[0;34m.\u001b[0m\u001b[0mconverted_call\u001b[0m\u001b[0;34m(\u001b[0m\u001b[0mag__\u001b[0m\u001b[0;34m.\u001b[0m\u001b[0mld\u001b[0m\u001b[0;34m(\u001b[0m\u001b[0mstep_function\u001b[0m\u001b[0;34m)\u001b[0m\u001b[0;34m,\u001b[0m \u001b[0;34m(\u001b[0m\u001b[0mag__\u001b[0m\u001b[0;34m.\u001b[0m\u001b[0mld\u001b[0m\u001b[0;34m(\u001b[0m\u001b[0mself\u001b[0m\u001b[0;34m)\u001b[0m\u001b[0;34m,\u001b[0m \u001b[0mag__\u001b[0m\u001b[0;34m.\u001b[0m\u001b[0mld\u001b[0m\u001b[0;34m(\u001b[0m\u001b[0miterator\u001b[0m\u001b[0;34m)\u001b[0m\u001b[0;34m)\u001b[0m\u001b[0;34m,\u001b[0m \u001b[0;32mNone\u001b[0m\u001b[0;34m,\u001b[0m \u001b[0mfscope\u001b[0m\u001b[0;34m)\u001b[0m\u001b[0;34m\u001b[0m\u001b[0;34m\u001b[0m\u001b[0m\n\u001b[0m\u001b[1;32m     16\u001b[0m                 \u001b[0;32mexcept\u001b[0m\u001b[0;34m:\u001b[0m\u001b[0;34m\u001b[0m\u001b[0;34m\u001b[0m\u001b[0m\n\u001b[1;32m     17\u001b[0m                     \u001b[0mdo_return\u001b[0m \u001b[0;34m=\u001b[0m \u001b[0;32mFalse\u001b[0m\u001b[0;34m\u001b[0m\u001b[0;34m\u001b[0m\u001b[0m\n",
            "\u001b[0;31mTypeError\u001b[0m: in user code:\n\n    File \"/usr/local/lib/python3.10/dist-packages/keras/engine/training.py\", line 2169, in predict_function  *\n        return step_function(self, iterator)\n    File \"/usr/local/lib/python3.10/dist-packages/keras/engine/training.py\", line 2155, in step_function  **\n        outputs = model.distribute_strategy.run(run_step, args=(data,))\n    File \"/usr/local/lib/python3.10/dist-packages/keras/engine/training.py\", line 2143, in run_step  **\n        outputs = model.predict_step(data)\n    File \"/usr/local/lib/python3.10/dist-packages/keras/engine/training.py\", line 2111, in predict_step\n        return self(x, training=False)\n    File \"/usr/local/lib/python3.10/dist-packages/keras/utils/traceback_utils.py\", line 70, in error_handler\n        raise e.with_traceback(filtered_tb) from None\n    File \"/usr/local/lib/python3.10/dist-packages/keras/layers/rnn/lstm.py\", line 615, in call\n        timesteps = input_shape[0] if self.time_major else input_shape[1]\n\n    TypeError: Exception encountered when calling layer 'lstm' (type LSTM).\n    \n    'NoneType' object is not subscriptable\n    \n    Call arguments received by layer 'lstm' (type LSTM):\n      • inputs=tf.Tensor(shape=<unknown>, dtype=float32)\n      • mask=None\n      • training=False\n      • initial_state=None\n"
          ]
        }
      ],
      "source": [
        "# --- note_l: is the list of notes (integer number) over time\n",
        "note_l = []\n",
        "# --- prediction_l: is the list of output-vectors (float numbers \\in [0,1]) of the network over time\n",
        "prediction_l = []\n",
        "# --- Generate T_y_generated notes\n",
        "for note_index in range(T_y_generated):\n",
        "    if student:\n",
        "        x = np.expand_dims(pattern, 0)\n",
        "        prediction = model.predict(x)[0]\n",
        "        predicted_note = np.argmax(prediction)\n",
        "        note_l.append(predicted_note)\n",
        "        prediction_l.append(prediction)\n",
        "        pattern = np.append(pattern[1:], predicted_note)\n"
      ]
    },
    {
      "cell_type": "markdown",
      "metadata": {
        "id": "stQscvNOg0xd"
      },
      "source": [
        "### Display the generated sequence"
      ]
    },
    {
      "cell_type": "code",
      "execution_count": null,
      "metadata": {
        "id": "c9IOPPiuLuHE"
      },
      "outputs": [],
      "source": [
        "print(note_l)\n",
        "\n",
        "plt.figure(figsize=(16, 6))\n",
        "plt.imshow(np.asarray(prediction_l)[:,0,:].T, aspect='auto', origin='lower')\n",
        "plt.plot(note_l)\n",
        "plt.set_cmap('gray_r')\n",
        "plt.grid(True)"
      ]
    },
    {
      "cell_type": "markdown",
      "metadata": {
        "id": "ZwM6osfDg5E0"
      },
      "source": [
        "### Create a MIDI file and an audio file which correspond to the generated sequence\n",
        "\n",
        "Once the new sequence has been generated (```note_l```) we transform it to a new MIDI file and perform (a very cheap) rendering of it in an audio file."
      ]
    },
    {
      "cell_type": "code",
      "execution_count": null,
      "metadata": {
        "id": "8cpTszOFID51"
      },
      "outputs": [],
      "source": [
        "new_midi_data = pretty_midi.PrettyMIDI()\n",
        "cello_program = pretty_midi.instrument_name_to_program('Cello')\n",
        "cello = pretty_midi.Instrument(program=cello_program)\n",
        "time = 0\n",
        "step = 0.3\n",
        "for note_number in note_l:\n",
        "    myNote = pretty_midi.Note(velocity=100, pitch=note_number, start=time, end=time+step)\n",
        "    cello.notes.append(myNote)\n",
        "    time += step\n",
        "new_midi_data.instruments.append(cello)\n",
        "new_midi_data.write('output.mid')"
      ]
    },
    {
      "cell_type": "code",
      "execution_count": null,
      "metadata": {
        "id": "yOXBXxa3IGKW"
      },
      "outputs": [],
      "source": [
        "%matplotlib inline\n",
        "\n",
        "audio_data = new_midi_data.synthesize(fs=44100)\n",
        "IPython.display.Audio(audio_data, rate=44100)"
      ]
    },
    {
      "cell_type": "markdown",
      "metadata": {
        "id": "Wb4DLCWjj93s"
      },
      "source": [
        "# Evaluation\n",
        "\n",
        "To evaluate the work, you should rate the code for\n",
        "- 1) Data conversion for the training of language model (01)\n",
        "- 2) Training the language model (02)\n",
        "- 3) Generating a new sequence from sampling the language model (03)\n",
        "\n",
        "You will also rate the answer to the four questions below."
      ]
    },
    {
      "cell_type": "markdown",
      "metadata": {
        "id": "sgjoIxEqL7bx"
      },
      "source": [
        "## Question 1)\n",
        "\n",
        "What happens if we replace the LSTM cell by a RNNsimple cell?\n",
        "\n",
        "**Answer below** (1 points)"
      ]
    },
    {
      "cell_type": "markdown",
      "metadata": {
        "id": "DIstqiBzj93v"
      },
      "source": [
        "Answer: The RNNsimple cell can be a simpler and computationally efficient option, it may not be as effective as LSTM cells in capturing long-term dependencies and maintaining stable gradients."
      ]
    },
    {
      "cell_type": "markdown",
      "metadata": {
        "id": "FTB7qV8wj93y"
      },
      "source": [
        "## Question 2)\n",
        "\n",
        "What happens if we shorten the length of the sequences used for training? How can this effect be avoided?\n",
        "\n",
        "**Answer below** (1 points)"
      ]
    },
    {
      "cell_type": "markdown",
      "metadata": {
        "id": "UAuSUBH4j932"
      },
      "source": [
        "Answer: The model may not capture long-term dependencies and patterns in the data. This can result in lower accuracy and less coherent generated sequences.To avoid this, we could try to avoid having to shorten the length of sequences or use overlapping sequences so that each note in the original sequence will be part of multiple training examples. Doing so, we provide the model with more context and increase the chances of capturing long-term dependencies."
      ]
    },
    {
      "cell_type": "markdown",
      "metadata": {
        "id": "46IzXO5Wj935"
      },
      "source": [
        "## Question 3)\n",
        "\n",
        "How could we make the system polyphonic (several notes played simultaneously by the same instrument)? for training? for generation?\n",
        "\n",
        "**Answer below** (2 points)"
      ]
    },
    {
      "cell_type": "markdown",
      "metadata": {
        "id": "KAyxRPQoj937"
      },
      "source": [
        "Answer: For training, instead of representing the notes as a single value, we could use binary vectors to represent the presence or absence of each note at each time step. Each position in the vector corresponds to a specific note, and a value of 1 indicates that the note is played, while a value of 0 indicates that it is not played. Hence, we would also have to modify the inputs. They would now consist of a series of binary vectors representing the presence or absence of notes at each time step. The output sequences would also be binary vectors indicating the next set of notes to be played.\n",
        "\n",
        "For generation, instead of selecting a single note with the maximum probability at each time step, we could select multiple notes based on their probabilities. This can be done by sampling from the probability distribution or by considering the top-k notes with the highest probabilities.\n"
      ]
    },
    {
      "cell_type": "markdown",
      "metadata": {
        "id": "X7MlNRsxj93-"
      },
      "source": [
        "## Question 4)\n",
        "\n",
        "We used a simplified procedure to train the musical language model, transforming the learning into a Many-To-one problem. Explain ? How does one usually train a language model with an RNN? What would be the advantage?\n",
        "\n",
        "**Answer below** (2 points)"
      ]
    },
    {
      "cell_type": "markdown",
      "metadata": {
        "id": "XJgs4uwpj94Q"
      },
      "source": [
        "Answer: Transforming the learning into Many-To-one problem allowed us to reduce the complexity of the training. This model takes an input sequence and predicts the corresponding output sequence, capturing dependencies and patterns in the data. Training with a Many-To-Many approach allows for more accurate predictions, considering the entire input sequence. However, the simplified Many-To-One approach used in the musical model sacrifices sequential information and context by predicting only the next note."
      ]
    }
  ],
  "metadata": {
    "accelerator": "GPU",
    "colab": {
      "provenance": []
    },
    "kernelspec": {
      "display_name": "Python 3",
      "language": "python",
      "name": "python3"
    },
    "language_info": {
      "codemirror_mode": {
        "name": "ipython",
        "version": 3
      },
      "file_extension": ".py",
      "mimetype": "text/x-python",
      "name": "python",
      "nbconvert_exporter": "python",
      "pygments_lexer": "ipython3",
      "version": "3.8.5"
    },
    "toc": {
      "base_numbering": 1,
      "nav_menu": {},
      "number_sections": true,
      "sideBar": true,
      "skip_h1_title": false,
      "title_cell": "Table of Contents",
      "title_sidebar": "Contents",
      "toc_cell": false,
      "toc_position": {},
      "toc_section_display": true,
      "toc_window_display": false
    }
  },
  "nbformat": 4,
  "nbformat_minor": 0
}